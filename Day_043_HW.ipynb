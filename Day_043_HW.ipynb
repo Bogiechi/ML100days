{
 "cells": [
  {
   "cell_type": "markdown",
   "metadata": {},
   "source": [
    "## [作業重點]\n",
    "了解隨機森林改善了決策樹的什麼缺點？是用什麼方法改進的？"
   ]
  },
  {
   "cell_type": "markdown",
   "metadata": {},
   "source": [
    "## 作業\n",
    "\n",
    "閱讀以下兩篇文獻，了解隨機森林原理，並試著回答後續的思考問題\n",
    "- [隨機森林 (random forest) - 中文](http://hhtucode.blogspot.tw/2013/06/ml-random-forest.html)\n",
    "- [how random forest works - 英文](https://medium.com/@Synced/how-random-forest-algorithm-works-in-machine-learning-3c0fe15b6674)"
   ]
  },
  {
   "cell_type": "markdown",
   "metadata": {},
   "source": [
    "\n",
    "1. 隨機森林中的每一棵樹，是希望能夠\n",
    "\n",
    "    - 沒有任何限制，讓樹可以持續生長 (讓樹生成很深，讓模型變得複雜)\n",
    "    \n",
    "    - 不要過度生長，避免 Overfitting\n",
    "    \n",
    "    \n",
    "2. 假設總共有 N 筆資料，每棵樹用取後放回的方式抽了總共 N 筆資料生成，請問這棵樹大約使用了多少 % 不重複的原資料生成?\n",
    "hint: 0.632 bootstrap\n"
   ]
  },
  {
   "cell_type": "markdown",
   "metadata": {},
   "source": [
    "1. 希望不要過度生長，避免Overfitting，隨機森林就是可以解決決策樹的Overfitting的演算法。\n",
    "2. 0.368, 1-((n-1)/n)**n ≈ 1-(1/e) ≈ 0.368"
   ]
  },
  {
   "cell_type": "markdown",
   "metadata": {},
   "source": [
    "解答 :\n",
    "\n",
    "1. 在随机森林中，每一棵树的目标是希望它们能够没有任何限制地生长到很深。这种方法允许每棵树捕捉训练数据中的复杂模式，产生低偏差（bias）。然而，单独的树通常会过拟合数据，所以隨機森林中的以下三個方法可以避免過擬合。\n",
    "- Bootstrap抽样：每棵树使用不同的子样本（有放回抽样），增加了模型的多样性。\n",
    "- 随机特征选择：在每个节点分裂时，随机选择特征进行分裂，减少特征间的相关性。\n",
    "- 多数投票：最终预测结果由所有树的预测结果投票决定，减少个别树的错误影响。\n",
    "\n",
    "2. 0.368為一次都沒被抽取，所以不重複的原資料生成為1-0.368 = 0.632"
   ]
  }
 ],
 "metadata": {
  "kernelspec": {
   "display_name": "Python 3",
   "language": "python",
   "name": "python3"
  },
  "language_info": {
   "codemirror_mode": {
    "name": "ipython",
    "version": 3
   },
   "file_extension": ".py",
   "mimetype": "text/x-python",
   "name": "python",
   "nbconvert_exporter": "python",
   "pygments_lexer": "ipython3",
   "version": "3.6.2"
  }
 },
 "nbformat": 4,
 "nbformat_minor": 2
}
