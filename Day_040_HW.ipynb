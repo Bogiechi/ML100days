{
 "cells": [
  {
   "cell_type": "markdown",
   "metadata": {},
   "source": [
    "## [作業重點]\n",
    "使用 Sklearn 中的 Lasso, Ridge 模型，來訓練各種資料集，務必了解送進去模型訓練的**資料型態**為何，也請了解模型中各項參數的意義。\n",
    "\n",
    "機器學習的模型非常多種，但要訓練的資料多半有固定的格式，確保你了解訓練資料的格式為何，這樣在應用新模型時，就能夠最快的上手開始訓練！"
   ]
  },
  {
   "cell_type": "markdown",
   "metadata": {},
   "source": [
    "## 練習時間\n",
    "試著使用 sklearn datasets 的其他資料集 (boston, ...)，來訓練自己的線性迴歸模型，並加上適當的正則化來觀察訓練情形。"
   ]
  },
  {
   "cell_type": "code",
   "execution_count": 4,
   "metadata": {},
   "outputs": [],
   "source": [
    "from sklearn.datasets import load_digits\n",
    "from sklearn import datasets, linear_model\n",
    "from sklearn.model_selection import train_test_split\n",
    "from sklearn.metrics import mean_squared_error, r2_score"
   ]
  },
  {
   "cell_type": "code",
   "execution_count": 7,
   "metadata": {},
   "outputs": [
    {
     "name": "stdout",
     "output_type": "stream",
     "text": [
      "[0 1 2 ... 8 9 8]\n"
     ]
    }
   ],
   "source": [
    "digits = load_digits()\n",
    "print(digits.target)"
   ]
  },
  {
   "cell_type": "code",
   "execution_count": 8,
   "metadata": {},
   "outputs": [
    {
     "name": "stdout",
     "output_type": "stream",
     "text": [
      "[ 5.73460642e-16  4.65789486e-02  4.31745326e-03 -3.60223234e-02\n",
      "  6.40454046e-02  1.83206202e-06 -3.66561937e-02  9.72983103e-03\n",
      "  1.67203223e+00 -2.66623887e-02  9.96132972e-02  4.71578005e-02\n",
      " -6.61582869e-02 -7.29523817e-02  8.12044540e-02  2.21937113e-01\n",
      " -7.07325612e-01  1.19451833e-02  8.73667894e-02 -3.25832990e-02\n",
      " -6.02376725e-02  4.10101349e-02 -5.21095942e-02 -2.32634120e-01\n",
      " -2.09558250e+00 -1.60168936e-01  3.31033310e-02  8.54088046e-02\n",
      "  6.49129744e-02  1.03063186e-01 -3.10979069e-02 -2.80395200e+00\n",
      "  3.46112028e-14 -1.42619106e-01 -2.62876723e-02  1.39148883e-01\n",
      " -5.40767568e-02  4.75176384e-02 -1.28245885e-02 -3.98570066e-14\n",
      "  8.08918229e-02  1.00129139e-01 -1.08831278e-02 -1.18748523e-02\n",
      "  1.14496425e-01  4.95294918e-02  3.50485686e-03  8.23174580e-02\n",
      "  6.62030678e-01  4.32899631e-02 -5.86191298e-03 -6.74816420e-02\n",
      " -2.14162876e-01 -4.16695425e-02  1.00069341e-01 -1.47857070e-01\n",
      " -3.66373598e-15 -1.18570848e-01  1.10849520e-02 -4.96527668e-02\n",
      " -1.32338206e-03 -8.21995663e-02 -7.63742222e-04 -4.85690722e-02]\n"
     ]
    }
   ],
   "source": [
    "# 切分訓練集/測試集\n",
    "x_train, x_test, y_train, y_test = train_test_split(digits.data, digits.target, test_size=0.2, random_state=4)\n",
    "\n",
    "# 建立一個線性回歸模型\n",
    "regr = linear_model.LinearRegression()\n",
    "\n",
    "# 將訓練資料丟進去模型訓練\n",
    "regr.fit(x_train, y_train)\n",
    "\n",
    "# 將測試資料丟進模型得到預測結果\n",
    "y_pred = regr.predict(x_test)\n",
    "\n",
    "print(regr.coef_)"
   ]
  },
  {
   "cell_type": "code",
   "execution_count": 9,
   "metadata": {},
   "outputs": [
    {
     "name": "stdout",
     "output_type": "stream",
     "text": [
      "Mean squared error: 3.45\n"
     ]
    }
   ],
   "source": [
    "# 預測值與實際值的差距，使用 MSE\n",
    "print(\"Mean squared error: %.2f\"\n",
    "      % mean_squared_error(y_test, y_pred))"
   ]
  },
  {
   "cell_type": "code",
   "execution_count": 12,
   "metadata": {},
   "outputs": [
    {
     "data": {
      "text/plain": [
       "array([ 0.        , -0.        , -0.        , -0.03134537,  0.04835431,\n",
       "        0.        ,  0.        ,  0.        ,  0.        ,  0.        ,\n",
       "        0.090113  ,  0.02428513, -0.06189882, -0.04404909,  0.04997501,\n",
       "        0.        , -0.        ,  0.        ,  0.08803589, -0.02885641,\n",
       "       -0.05246241,  0.01728975, -0.00885098, -0.        , -0.        ,\n",
       "       -0.14183344,  0.0246654 ,  0.09058335,  0.05616166,  0.10697828,\n",
       "       -0.03936533, -0.        ,  0.        , -0.12647297, -0.01699292,\n",
       "        0.11444106, -0.02465554,  0.03984988, -0.        ,  0.        ,\n",
       "        0.        ,  0.06770585, -0.        , -0.        ,  0.09407324,\n",
       "        0.04727185,  0.00645963, -0.        ,  0.        ,  0.00237859,\n",
       "       -0.        , -0.06652464, -0.20788228, -0.0443693 ,  0.06713393,\n",
       "       -0.        ,  0.        , -0.        ,  0.        , -0.02721299,\n",
       "       -0.00071003, -0.06632879, -0.00259817, -0.05350715])"
      ]
     },
     "execution_count": 12,
     "metadata": {},
     "output_type": "execute_result"
    }
   ],
   "source": [
    "# 建立一個線性回歸模型\n",
    "lasso = linear_model.Lasso(alpha=0.1)\n",
    "\n",
    "# 將訓練資料丟進去模型訓練\n",
    "lasso.fit(x_train, y_train)\n",
    "\n",
    "# 將測試資料丟進模型得到預測結果\n",
    "y_pred = lasso.predict(x_test)\n",
    "\n",
    "# 印出各特徵對應的係數，可以看到許多係數都變成 0，Lasso Regression 的確可以做特徵選取\n",
    "lasso.coef_"
   ]
  },
  {
   "cell_type": "code",
   "execution_count": 13,
   "metadata": {},
   "outputs": [
    {
     "name": "stdout",
     "output_type": "stream",
     "text": [
      "Mean squared error: 3.48\n"
     ]
    }
   ],
   "source": [
    "# 預測值與實際值的差距，使用 MSE\n",
    "print(\"Mean squared error: %.2f\"\n",
    "      % mean_squared_error(y_test, y_pred))"
   ]
  }
 ],
 "metadata": {
  "kernelspec": {
   "display_name": "Python 3",
   "language": "python",
   "name": "python3"
  },
  "language_info": {
   "codemirror_mode": {
    "name": "ipython",
    "version": 3
   },
   "file_extension": ".py",
   "mimetype": "text/x-python",
   "name": "python",
   "nbconvert_exporter": "python",
   "pygments_lexer": "ipython3",
   "version": "3.12.4"
  }
 },
 "nbformat": 4,
 "nbformat_minor": 2
}
